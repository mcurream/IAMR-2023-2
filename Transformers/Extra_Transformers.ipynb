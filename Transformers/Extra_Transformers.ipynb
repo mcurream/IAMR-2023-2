{
  "nbformat": 4,
  "nbformat_minor": 0,
  "metadata": {
    "colab": {
      "provenance": [],
      "gpuType": "T4"
    },
    "kernelspec": {
      "name": "python3",
      "display_name": "Python 3"
    },
    "language_info": {
      "name": "python"
    },
    "accelerator": "GPU"
  },
  "cells": [
    {
      "cell_type": "markdown",
      "source": [
        "# **Rehaciendo un nuevo Tranformer con Keras**\n",
        "\n",
        "### Luego de nuestro anterior fracaso, reharemos un nuevo Transformer cuyo principal proposito sea la traduccion.\n"
      ],
      "metadata": {
        "id": "6-BQOq1oKPj6"
      }
    },
    {
      "cell_type": "code",
      "source": [
        "!pip install tensorflow"
      ],
      "metadata": {
        "colab": {
          "base_uri": "https://localhost:8080/"
        },
        "id": "bZreinItKxsz",
        "outputId": "722082e8-b04c-48d3-b645-a28ce52d75da"
      },
      "execution_count": 1,
      "outputs": [
        {
          "output_type": "stream",
          "name": "stdout",
          "text": [
            "Requirement already satisfied: tensorflow in /usr/local/lib/python3.10/dist-packages (2.14.0)\n",
            "Requirement already satisfied: absl-py>=1.0.0 in /usr/local/lib/python3.10/dist-packages (from tensorflow) (1.4.0)\n",
            "Requirement already satisfied: astunparse>=1.6.0 in /usr/local/lib/python3.10/dist-packages (from tensorflow) (1.6.3)\n",
            "Requirement already satisfied: flatbuffers>=23.5.26 in /usr/local/lib/python3.10/dist-packages (from tensorflow) (23.5.26)\n",
            "Requirement already satisfied: gast!=0.5.0,!=0.5.1,!=0.5.2,>=0.2.1 in /usr/local/lib/python3.10/dist-packages (from tensorflow) (0.5.4)\n",
            "Requirement already satisfied: google-pasta>=0.1.1 in /usr/local/lib/python3.10/dist-packages (from tensorflow) (0.2.0)\n",
            "Requirement already satisfied: h5py>=2.9.0 in /usr/local/lib/python3.10/dist-packages (from tensorflow) (3.9.0)\n",
            "Requirement already satisfied: libclang>=13.0.0 in /usr/local/lib/python3.10/dist-packages (from tensorflow) (16.0.6)\n",
            "Requirement already satisfied: ml-dtypes==0.2.0 in /usr/local/lib/python3.10/dist-packages (from tensorflow) (0.2.0)\n",
            "Requirement already satisfied: numpy>=1.23.5 in /usr/local/lib/python3.10/dist-packages (from tensorflow) (1.23.5)\n",
            "Requirement already satisfied: opt-einsum>=2.3.2 in /usr/local/lib/python3.10/dist-packages (from tensorflow) (3.3.0)\n",
            "Requirement already satisfied: packaging in /usr/local/lib/python3.10/dist-packages (from tensorflow) (23.2)\n",
            "Requirement already satisfied: protobuf!=4.21.0,!=4.21.1,!=4.21.2,!=4.21.3,!=4.21.4,!=4.21.5,<5.0.0dev,>=3.20.3 in /usr/local/lib/python3.10/dist-packages (from tensorflow) (3.20.3)\n",
            "Requirement already satisfied: setuptools in /usr/local/lib/python3.10/dist-packages (from tensorflow) (67.7.2)\n",
            "Requirement already satisfied: six>=1.12.0 in /usr/local/lib/python3.10/dist-packages (from tensorflow) (1.16.0)\n",
            "Requirement already satisfied: termcolor>=1.1.0 in /usr/local/lib/python3.10/dist-packages (from tensorflow) (2.3.0)\n",
            "Requirement already satisfied: typing-extensions>=3.6.6 in /usr/local/lib/python3.10/dist-packages (from tensorflow) (4.5.0)\n",
            "Requirement already satisfied: wrapt<1.15,>=1.11.0 in /usr/local/lib/python3.10/dist-packages (from tensorflow) (1.14.1)\n",
            "Requirement already satisfied: tensorflow-io-gcs-filesystem>=0.23.1 in /usr/local/lib/python3.10/dist-packages (from tensorflow) (0.34.0)\n",
            "Requirement already satisfied: grpcio<2.0,>=1.24.3 in /usr/local/lib/python3.10/dist-packages (from tensorflow) (1.59.0)\n",
            "Requirement already satisfied: tensorboard<2.15,>=2.14 in /usr/local/lib/python3.10/dist-packages (from tensorflow) (2.14.1)\n",
            "Requirement already satisfied: tensorflow-estimator<2.15,>=2.14.0 in /usr/local/lib/python3.10/dist-packages (from tensorflow) (2.14.0)\n",
            "Requirement already satisfied: keras<2.15,>=2.14.0 in /usr/local/lib/python3.10/dist-packages (from tensorflow) (2.14.0)\n",
            "Requirement already satisfied: wheel<1.0,>=0.23.0 in /usr/local/lib/python3.10/dist-packages (from astunparse>=1.6.0->tensorflow) (0.41.2)\n",
            "Requirement already satisfied: google-auth<3,>=1.6.3 in /usr/local/lib/python3.10/dist-packages (from tensorboard<2.15,>=2.14->tensorflow) (2.17.3)\n",
            "Requirement already satisfied: google-auth-oauthlib<1.1,>=0.5 in /usr/local/lib/python3.10/dist-packages (from tensorboard<2.15,>=2.14->tensorflow) (1.0.0)\n",
            "Requirement already satisfied: markdown>=2.6.8 in /usr/local/lib/python3.10/dist-packages (from tensorboard<2.15,>=2.14->tensorflow) (3.5)\n",
            "Requirement already satisfied: requests<3,>=2.21.0 in /usr/local/lib/python3.10/dist-packages (from tensorboard<2.15,>=2.14->tensorflow) (2.31.0)\n",
            "Requirement already satisfied: tensorboard-data-server<0.8.0,>=0.7.0 in /usr/local/lib/python3.10/dist-packages (from tensorboard<2.15,>=2.14->tensorflow) (0.7.2)\n",
            "Requirement already satisfied: werkzeug>=1.0.1 in /usr/local/lib/python3.10/dist-packages (from tensorboard<2.15,>=2.14->tensorflow) (3.0.1)\n",
            "Requirement already satisfied: cachetools<6.0,>=2.0.0 in /usr/local/lib/python3.10/dist-packages (from google-auth<3,>=1.6.3->tensorboard<2.15,>=2.14->tensorflow) (5.3.2)\n",
            "Requirement already satisfied: pyasn1-modules>=0.2.1 in /usr/local/lib/python3.10/dist-packages (from google-auth<3,>=1.6.3->tensorboard<2.15,>=2.14->tensorflow) (0.3.0)\n",
            "Requirement already satisfied: rsa<5,>=3.1.4 in /usr/local/lib/python3.10/dist-packages (from google-auth<3,>=1.6.3->tensorboard<2.15,>=2.14->tensorflow) (4.9)\n",
            "Requirement already satisfied: requests-oauthlib>=0.7.0 in /usr/local/lib/python3.10/dist-packages (from google-auth-oauthlib<1.1,>=0.5->tensorboard<2.15,>=2.14->tensorflow) (1.3.1)\n",
            "Requirement already satisfied: charset-normalizer<4,>=2 in /usr/local/lib/python3.10/dist-packages (from requests<3,>=2.21.0->tensorboard<2.15,>=2.14->tensorflow) (3.3.1)\n",
            "Requirement already satisfied: idna<4,>=2.5 in /usr/local/lib/python3.10/dist-packages (from requests<3,>=2.21.0->tensorboard<2.15,>=2.14->tensorflow) (3.4)\n",
            "Requirement already satisfied: urllib3<3,>=1.21.1 in /usr/local/lib/python3.10/dist-packages (from requests<3,>=2.21.0->tensorboard<2.15,>=2.14->tensorflow) (2.0.7)\n",
            "Requirement already satisfied: certifi>=2017.4.17 in /usr/local/lib/python3.10/dist-packages (from requests<3,>=2.21.0->tensorboard<2.15,>=2.14->tensorflow) (2023.7.22)\n",
            "Requirement already satisfied: MarkupSafe>=2.1.1 in /usr/local/lib/python3.10/dist-packages (from werkzeug>=1.0.1->tensorboard<2.15,>=2.14->tensorflow) (2.1.3)\n",
            "Requirement already satisfied: pyasn1<0.6.0,>=0.4.6 in /usr/local/lib/python3.10/dist-packages (from pyasn1-modules>=0.2.1->google-auth<3,>=1.6.3->tensorboard<2.15,>=2.14->tensorflow) (0.5.0)\n",
            "Requirement already satisfied: oauthlib>=3.0.0 in /usr/local/lib/python3.10/dist-packages (from requests-oauthlib>=0.7.0->google-auth-oauthlib<1.1,>=0.5->tensorboard<2.15,>=2.14->tensorflow) (3.2.2)\n"
          ]
        }
      ]
    },
    {
      "cell_type": "markdown",
      "source": [
        "- Imports necesarios"
      ],
      "metadata": {
        "id": "ZG1hUiS6KrfS"
      }
    },
    {
      "cell_type": "code",
      "execution_count": 2,
      "metadata": {
        "id": "OtKACiQsKMRq"
      },
      "outputs": [],
      "source": [
        "import pathlib\n",
        "import random\n",
        "import string\n",
        "import re\n",
        "import numpy as np\n",
        "import tensorflow as tf\n",
        "from tensorflow import keras\n",
        "from tensorflow.keras import layers\n",
        "from tensorflow.keras.layers import TextVectorization"
      ]
    },
    {
      "cell_type": "markdown",
      "source": [
        "- Datos que vamos a utilizar"
      ],
      "metadata": {
        "id": "fMUnVEuIK5cT"
      }
    },
    {
      "cell_type": "code",
      "source": [
        "text_file = keras.utils.get_file(\n",
        "    fname=\"spa-eng.zip\",\n",
        "    origin=\"http://storage.googleapis.com/download.tensorflow.org/data/spa-eng.zip\",\n",
        "    extract=True,\n",
        ")\n",
        "text_file = pathlib.Path(text_file).parent / \"spa-eng\" / \"spa.txt\""
      ],
      "metadata": {
        "colab": {
          "base_uri": "https://localhost:8080/"
        },
        "id": "hSTQbVh6K7dE",
        "outputId": "671d83df-da3e-43a7-f05e-0872e7bb4abb"
      },
      "execution_count": 3,
      "outputs": [
        {
          "output_type": "stream",
          "name": "stdout",
          "text": [
            "Downloading data from http://storage.googleapis.com/download.tensorflow.org/data/spa-eng.zip\n",
            "2638744/2638744 [==============================] - 0s 0us/step\n"
          ]
        }
      ]
    },
    {
      "cell_type": "markdown",
      "source": [
        "- Analizando los datos"
      ],
      "metadata": {
        "id": "5tpUZ9GgLF1z"
      }
    },
    {
      "cell_type": "code",
      "source": [
        "with open(text_file) as f:\n",
        "    lines = f.read().split(\"\\n\")[:-1]\n",
        "text_pairs = []\n",
        "for line in lines:\n",
        "    eng, spa = line.split(\"\\t\")\n",
        "    spa = \"[start] \" + spa + \" [end]\"\n",
        "    text_pairs.append((eng, spa))\n",
        "for _ in range(5):\n",
        "    print(random.choice(text_pairs))"
      ],
      "metadata": {
        "colab": {
          "base_uri": "https://localhost:8080/"
        },
        "id": "0xqZ529nLIqX",
        "outputId": "5374ea0c-41f0-42b5-d987-d81e0d96b441"
      },
      "execution_count": 4,
      "outputs": [
        {
          "output_type": "stream",
          "name": "stdout",
          "text": [
            "('Tell us more about what you did when you were in Boston.', '[start] Dinos más cosas de lo que hacías cuando estabas en Boston. [end]')\n",
            "('Try to improve your English.', '[start] Trata de mejorar tu inglés. [end]')\n",
            "('Let me know as soon as he comes.', '[start] En cuanto llegue, avísame. [end]')\n",
            "('Of course, I remember you.', '[start] Desde luego, te recuerdo. [end]')\n",
            "('Everyone thinks the same way.', '[start] Todos piensan lo mismo. [end]')\n"
          ]
        }
      ]
    },
    {
      "cell_type": "markdown",
      "source": [
        "- Ahora, dividiremos los pares de oraciones en un conjunto de entrenamiento, un conjunto de validación y un conjunto de prueba."
      ],
      "metadata": {
        "id": "_ZBn9bBTLRHq"
      }
    },
    {
      "cell_type": "code",
      "source": [
        "random.shuffle(text_pairs)\n",
        "num_val_samples = int(0.15 * len(text_pairs))\n",
        "num_train_samples = len(text_pairs) - 2 * num_val_samples\n",
        "train_pairs = text_pairs[:num_train_samples]\n",
        "val_pairs = text_pairs[num_train_samples : num_train_samples + num_val_samples]\n",
        "test_pairs = text_pairs[num_train_samples + num_val_samples :]\n",
        "\n",
        "print(f\"{len(text_pairs)} total pairs\")\n",
        "print(f\"{len(train_pairs)} training pairs\")\n",
        "print(f\"{len(val_pairs)} validation pairs\")\n",
        "print(f\"{len(test_pairs)} test pairs\")"
      ],
      "metadata": {
        "colab": {
          "base_uri": "https://localhost:8080/"
        },
        "id": "9Zn0azggLVWC",
        "outputId": "45658bcf-4c85-4442-d3b9-8f9c8e3051c5"
      },
      "execution_count": 5,
      "outputs": [
        {
          "output_type": "stream",
          "name": "stdout",
          "text": [
            "118964 total pairs\n",
            "83276 training pairs\n",
            "17844 validation pairs\n",
            "17844 test pairs\n"
          ]
        }
      ]
    },
    {
      "cell_type": "markdown",
      "source": [
        "- Vectorizar el texto, para crear cadenas de enteros, mas faciles de analizar."
      ],
      "metadata": {
        "id": "Q5AHWLV4LZVh"
      }
    },
    {
      "cell_type": "code",
      "source": [
        "strip_chars = string.punctuation + \"¿\"\n",
        "strip_chars = strip_chars.replace(\"[\", \"\")\n",
        "strip_chars = strip_chars.replace(\"]\", \"\")\n",
        "\n",
        "vocab_size = 15000\n",
        "sequence_length = 20\n",
        "batch_size = 64\n",
        "\n",
        "\n",
        "def custom_standardization(input_string):\n",
        "    lowercase = tf.strings.lower(input_string)\n",
        "    return tf.strings.regex_replace(lowercase, \"[%s]\" % re.escape(strip_chars), \"\")\n",
        "\n",
        "\n",
        "eng_vectorization = TextVectorization(\n",
        "    max_tokens=vocab_size,\n",
        "    output_mode=\"int\",\n",
        "    output_sequence_length=sequence_length,\n",
        ")\n",
        "spa_vectorization = TextVectorization(\n",
        "    max_tokens=vocab_size,\n",
        "    output_mode=\"int\",\n",
        "    output_sequence_length=sequence_length + 1,\n",
        "    standardize=custom_standardization,\n",
        ")\n",
        "train_eng_texts = [pair[0] for pair in train_pairs]\n",
        "train_spa_texts = [pair[1] for pair in train_pairs]\n",
        "eng_vectorization.adapt(train_eng_texts)\n",
        "spa_vectorization.adapt(train_spa_texts)"
      ],
      "metadata": {
        "id": "PNkcIsBTLgst"
      },
      "execution_count": 6,
      "outputs": []
    },
    {
      "cell_type": "markdown",
      "source": [
        "- Daremos formato a nuestros nuevos conjuntos de datos"
      ],
      "metadata": {
        "id": "5i0QmbZbLkHh"
      }
    },
    {
      "cell_type": "code",
      "source": [
        "def format_dataset(eng, spa):\n",
        "    eng = eng_vectorization(eng)\n",
        "    spa = spa_vectorization(spa)\n",
        "    return (\n",
        "        {\n",
        "            \"encoder_inputs\": eng,\n",
        "            \"decoder_inputs\": spa[:, :-1],\n",
        "        },\n",
        "        spa[:, 1:],\n",
        "    )\n",
        "\n",
        "\n",
        "def make_dataset(pairs):\n",
        "    eng_texts, spa_texts = zip(*pairs)\n",
        "    eng_texts = list(eng_texts)\n",
        "    spa_texts = list(spa_texts)\n",
        "    dataset = tf.data.Dataset.from_tensor_slices((eng_texts, spa_texts))\n",
        "    dataset = dataset.batch(batch_size)\n",
        "    dataset = dataset.map(format_dataset)\n",
        "    return dataset.shuffle(2048).prefetch(16).cache()\n",
        "\n",
        "\n",
        "train_ds = make_dataset(train_pairs)\n",
        "val_ds = make_dataset(val_pairs)\n",
        "\n",
        "for inputs, targets in train_ds.take(1):\n",
        "    print(f'inputs[\"encoder_inputs\"].shape: {inputs[\"encoder_inputs\"].shape}')\n",
        "    print(f'inputs[\"decoder_inputs\"].shape: {inputs[\"decoder_inputs\"].shape}')\n",
        "    print(f\"targets.shape: {targets.shape}\")"
      ],
      "metadata": {
        "colab": {
          "base_uri": "https://localhost:8080/"
        },
        "id": "aFQD_HgjLqLT",
        "outputId": "c687ca5a-6c63-421b-fb8e-5d5032e75178"
      },
      "execution_count": 7,
      "outputs": [
        {
          "output_type": "stream",
          "name": "stdout",
          "text": [
            "inputs[\"encoder_inputs\"].shape: (64, 20)\n",
            "inputs[\"decoder_inputs\"].shape: (64, 20)\n",
            "targets.shape: (64, 20)\n"
          ]
        }
      ]
    },
    {
      "cell_type": "markdown",
      "source": [
        "### ***El Nuevo Transformer***"
      ],
      "metadata": {
        "id": "dd3M_8cQLypU"
      }
    },
    {
      "cell_type": "code",
      "source": [
        "class TransformerEncoder(layers.Layer):\n",
        "    def __init__(self, embed_dim, dense_dim, num_heads, **kwargs):\n",
        "        super().__init__(**kwargs)\n",
        "        self.embed_dim = embed_dim\n",
        "        self.dense_dim = dense_dim\n",
        "        self.num_heads = num_heads\n",
        "        self.attention = layers.MultiHeadAttention(\n",
        "            num_heads=num_heads, key_dim=embed_dim\n",
        "        )\n",
        "        self.dense_proj = keras.Sequential(\n",
        "            [\n",
        "                layers.Dense(dense_dim, activation=\"relu\"),\n",
        "                layers.Dense(embed_dim),\n",
        "            ]\n",
        "        )\n",
        "        self.layernorm_1 = layers.LayerNormalization()\n",
        "        self.layernorm_2 = layers.LayerNormalization()\n",
        "        self.supports_masking = True\n",
        "\n",
        "    def call(self, inputs, mask=None):\n",
        "        attention_output = self.attention(query=inputs, value=inputs, key=inputs)\n",
        "        proj_input = self.layernorm_1(inputs + attention_output)\n",
        "        proj_output = self.dense_proj(proj_input)\n",
        "        return self.layernorm_2(proj_input + proj_output)\n",
        "\n",
        "    def get_config(self):\n",
        "        config = super().get_config()\n",
        "        config.update(\n",
        "            {\n",
        "                \"embed_dim\": self.embed_dim,\n",
        "                \"dense_dim\": self.dense_dim,\n",
        "                \"num_heads\": self.num_heads,\n",
        "            }\n",
        "        )\n",
        "        return config\n",
        "\n",
        "\n",
        "class PositionalEmbedding(layers.Layer):\n",
        "    def __init__(self, sequence_length, vocab_size, embed_dim, **kwargs):\n",
        "        super().__init__(**kwargs)\n",
        "        self.token_embeddings = layers.Embedding(\n",
        "            input_dim=vocab_size, output_dim=embed_dim\n",
        "        )\n",
        "        self.position_embeddings = layers.Embedding(\n",
        "            input_dim=sequence_length, output_dim=embed_dim\n",
        "        )\n",
        "        self.sequence_length = sequence_length\n",
        "        self.vocab_size = vocab_size\n",
        "        self.embed_dim = embed_dim\n",
        "\n",
        "    def call(self, inputs):\n",
        "        length = tf.shape(inputs)[-1]\n",
        "        positions = tf.range(start=0, limit=length, delta=1)\n",
        "        embedded_tokens = self.token_embeddings(inputs)\n",
        "        embedded_positions = self.position_embeddings(positions)\n",
        "        return embedded_tokens + embedded_positions\n",
        "\n",
        "    def compute_mask(self, inputs, mask=None):\n",
        "        return tf.math.not_equal(inputs, 0)\n",
        "\n",
        "    def get_config(self):\n",
        "        config = super().get_config()\n",
        "        config.update(\n",
        "            {\n",
        "                \"sequence_length\": self.sequence_length,\n",
        "                \"vocab_size\": self.vocab_size,\n",
        "                \"embed_dim\": self.embed_dim,\n",
        "            }\n",
        "        )\n",
        "        return config\n",
        "\n",
        "\n",
        "class TransformerDecoder(layers.Layer):\n",
        "    def __init__(self, embed_dim, latent_dim, num_heads, **kwargs):\n",
        "        super().__init__(**kwargs)\n",
        "        self.embed_dim = embed_dim\n",
        "        self.latent_dim = latent_dim\n",
        "        self.num_heads = num_heads\n",
        "        self.attention_1 = layers.MultiHeadAttention(\n",
        "            num_heads=num_heads, key_dim=embed_dim\n",
        "        )\n",
        "        self.attention_2 = layers.MultiHeadAttention(\n",
        "            num_heads=num_heads, key_dim=embed_dim\n",
        "        )\n",
        "        self.dense_proj = keras.Sequential(\n",
        "            [\n",
        "                layers.Dense(latent_dim, activation=\"relu\"),\n",
        "                layers.Dense(embed_dim),\n",
        "            ]\n",
        "        )\n",
        "        self.layernorm_1 = layers.LayerNormalization()\n",
        "        self.layernorm_2 = layers.LayerNormalization()\n",
        "        self.layernorm_3 = layers.LayerNormalization()\n",
        "        self.add = layers.Add()  # instead of `+` to preserve mask\n",
        "        self.supports_masking = True\n",
        "\n",
        "    def call(self, inputs, encoder_outputs, mask=None):\n",
        "        attention_output_1 = self.attention_1(\n",
        "            query=inputs, value=inputs, key=inputs, use_causal_mask=True\n",
        "        )\n",
        "        out_1 = self.layernorm_1(self.add([inputs, attention_output_1]))\n",
        "\n",
        "        attention_output_2 = self.attention_2(\n",
        "            query=out_1,\n",
        "            value=encoder_outputs,\n",
        "            key=encoder_outputs,\n",
        "        )\n",
        "        out_2 = self.layernorm_2(self.add([out_1, attention_output_2]))\n",
        "\n",
        "        proj_output = self.dense_proj(out_2)\n",
        "        return self.layernorm_3(self.add([out_2, proj_output]))\n",
        "\n",
        "    def get_config(self):\n",
        "        config = super().get_config()\n",
        "        config.update(\n",
        "            {\n",
        "                \"embed_dim\": self.embed_dim,\n",
        "                \"latent_dim\": self.latent_dim,\n",
        "                \"num_heads\": self.num_heads,\n",
        "            }\n",
        "        )\n",
        "        return config"
      ],
      "metadata": {
        "id": "0rmYFUDYLyLL"
      },
      "execution_count": 8,
      "outputs": []
    },
    {
      "cell_type": "code",
      "source": [
        "embed_dim = 256\n",
        "latent_dim = 2048\n",
        "num_heads = 8\n",
        "\n",
        "encoder_inputs = keras.Input(shape=(None,), dtype=\"int64\", name=\"encoder_inputs\")\n",
        "x = PositionalEmbedding(sequence_length, vocab_size, embed_dim)(encoder_inputs)\n",
        "encoder_outputs = TransformerEncoder(embed_dim, latent_dim, num_heads)(x)\n",
        "encoder = keras.Model(encoder_inputs, encoder_outputs)\n",
        "\n",
        "decoder_inputs = keras.Input(shape=(None,), dtype=\"int64\", name=\"decoder_inputs\")\n",
        "encoded_seq_inputs = keras.Input(shape=(None, embed_dim), name=\"decoder_state_inputs\")\n",
        "x = PositionalEmbedding(sequence_length, vocab_size, embed_dim)(decoder_inputs)\n",
        "x = TransformerDecoder(embed_dim, latent_dim, num_heads)(x, encoded_seq_inputs)\n",
        "x = layers.Dropout(0.5)(x)\n",
        "decoder_outputs = layers.Dense(vocab_size, activation=\"softmax\")(x)\n",
        "decoder = keras.Model([decoder_inputs, encoded_seq_inputs], decoder_outputs)\n",
        "\n",
        "decoder_outputs = decoder([decoder_inputs, encoder_outputs])\n",
        "transformer = keras.Model(\n",
        "    [encoder_inputs, decoder_inputs], decoder_outputs, name=\"transformer\"\n",
        ")"
      ],
      "metadata": {
        "id": "5wTr6WTlL71c"
      },
      "execution_count": 9,
      "outputs": []
    },
    {
      "cell_type": "markdown",
      "source": [
        "- Ahora debemos entrenarlo."
      ],
      "metadata": {
        "id": "fKfCSzA8L-yL"
      }
    },
    {
      "cell_type": "code",
      "source": [
        "epochs = 60\n",
        "\n",
        "transformer.summary()\n",
        "transformer.compile(\n",
        "    \"rmsprop\", loss=\"sparse_categorical_crossentropy\", metrics=[\"accuracy\"]\n",
        ")\n",
        "transformer.fit(train_ds, epochs=epochs, validation_data=val_ds)"
      ],
      "metadata": {
        "colab": {
          "base_uri": "https://localhost:8080/"
        },
        "id": "hyy8_g8OMB58",
        "outputId": "0911554d-6d73-4095-f1b0-049c6e45ab8c"
      },
      "execution_count": 17,
      "outputs": [
        {
          "output_type": "stream",
          "name": "stdout",
          "text": [
            "Model: \"transformer\"\n",
            "__________________________________________________________________________________________________\n",
            " Layer (type)                Output Shape                 Param #   Connected to                  \n",
            "==================================================================================================\n",
            " encoder_inputs (InputLayer  [(None, None)]               0         []                            \n",
            " )                                                                                                \n",
            "                                                                                                  \n",
            " positional_embedding (Posi  (None, None, 256)            3845120   ['encoder_inputs[0][0]']      \n",
            " tionalEmbedding)                                                                                 \n",
            "                                                                                                  \n",
            " decoder_inputs (InputLayer  [(None, None)]               0         []                            \n",
            " )                                                                                                \n",
            "                                                                                                  \n",
            " transformer_encoder (Trans  (None, None, 256)            3155456   ['positional_embedding[0][0]']\n",
            " formerEncoder)                                                                                   \n",
            "                                                                                                  \n",
            " model_1 (Functional)        (None, None, 15000)          1295964   ['decoder_inputs[0][0]',      \n",
            "                                                          0          'transformer_encoder[0][0]'] \n",
            "                                                                                                  \n",
            "==================================================================================================\n",
            "Total params: 19960216 (76.14 MB)\n",
            "Trainable params: 19960216 (76.14 MB)\n",
            "Non-trainable params: 0 (0.00 Byte)\n",
            "__________________________________________________________________________________________________\n",
            "Epoch 1/60\n",
            "1302/1302 [==============================] - 102s 74ms/step - loss: 1.3384 - accuracy: 0.8079 - val_loss: 2.5378 - val_accuracy: 0.6866\n",
            "Epoch 2/60\n",
            "1302/1302 [==============================] - 90s 69ms/step - loss: 1.3220 - accuracy: 0.8100 - val_loss: 2.5459 - val_accuracy: 0.6888\n",
            "Epoch 3/60\n",
            "1302/1302 [==============================] - 91s 70ms/step - loss: 1.3116 - accuracy: 0.8118 - val_loss: 2.5748 - val_accuracy: 0.6901\n",
            "Epoch 4/60\n",
            "1302/1302 [==============================] - 91s 70ms/step - loss: 1.3075 - accuracy: 0.8127 - val_loss: 2.5751 - val_accuracy: 0.6879\n",
            "Epoch 5/60\n",
            "1302/1302 [==============================] - 90s 69ms/step - loss: 1.3020 - accuracy: 0.8140 - val_loss: 2.5992 - val_accuracy: 0.6894\n",
            "Epoch 6/60\n",
            "1302/1302 [==============================] - 91s 70ms/step - loss: 1.2941 - accuracy: 0.8155 - val_loss: 2.6284 - val_accuracy: 0.6853\n",
            "Epoch 7/60\n",
            "1302/1302 [==============================] - 91s 70ms/step - loss: 1.2900 - accuracy: 0.8159 - val_loss: 2.6406 - val_accuracy: 0.6867\n",
            "Epoch 8/60\n",
            "1302/1302 [==============================] - 91s 70ms/step - loss: 1.2848 - accuracy: 0.8172 - val_loss: 2.6063 - val_accuracy: 0.6888\n",
            "Epoch 9/60\n",
            "1302/1302 [==============================] - 90s 69ms/step - loss: 1.2769 - accuracy: 0.8186 - val_loss: 2.6330 - val_accuracy: 0.6895\n",
            "Epoch 10/60\n",
            "1302/1302 [==============================] - 91s 70ms/step - loss: 1.2740 - accuracy: 0.8194 - val_loss: 2.6591 - val_accuracy: 0.6882\n",
            "Epoch 11/60\n",
            "1302/1302 [==============================] - 92s 70ms/step - loss: 1.2713 - accuracy: 0.8201 - val_loss: 2.7230 - val_accuracy: 0.6855\n",
            "Epoch 12/60\n",
            "1302/1302 [==============================] - 91s 70ms/step - loss: 1.2650 - accuracy: 0.8212 - val_loss: 2.6667 - val_accuracy: 0.6887\n",
            "Epoch 13/60\n",
            "1302/1302 [==============================] - 91s 70ms/step - loss: 1.2603 - accuracy: 0.8224 - val_loss: 2.7117 - val_accuracy: 0.6861\n",
            "Epoch 14/60\n",
            "1302/1302 [==============================] - 90s 69ms/step - loss: 1.2568 - accuracy: 0.8230 - val_loss: 2.7407 - val_accuracy: 0.6877\n",
            "Epoch 15/60\n",
            "1302/1302 [==============================] - 91s 70ms/step - loss: 1.2535 - accuracy: 0.8235 - val_loss: 2.7560 - val_accuracy: 0.6840\n",
            "Epoch 16/60\n",
            "1302/1302 [==============================] - 91s 70ms/step - loss: 1.2514 - accuracy: 0.8241 - val_loss: 2.7252 - val_accuracy: 0.6881\n",
            "Epoch 17/60\n",
            "1302/1302 [==============================] - 92s 71ms/step - loss: 1.2470 - accuracy: 0.8248 - val_loss: 2.8118 - val_accuracy: 0.6830\n",
            "Epoch 18/60\n",
            "1302/1302 [==============================] - 91s 70ms/step - loss: 1.2428 - accuracy: 0.8257 - val_loss: 2.7811 - val_accuracy: 0.6893\n",
            "Epoch 19/60\n",
            "1302/1302 [==============================] - 91s 70ms/step - loss: 1.2418 - accuracy: 0.8260 - val_loss: 2.7859 - val_accuracy: 0.6897\n",
            "Epoch 20/60\n",
            "1302/1302 [==============================] - 90s 69ms/step - loss: 1.2357 - accuracy: 0.8268 - val_loss: 2.8338 - val_accuracy: 0.6897\n",
            "Epoch 21/60\n",
            "1302/1302 [==============================] - 91s 70ms/step - loss: 1.2296 - accuracy: 0.8279 - val_loss: 2.8254 - val_accuracy: 0.6852\n",
            "Epoch 22/60\n",
            "1302/1302 [==============================] - 91s 70ms/step - loss: 1.2270 - accuracy: 0.8286 - val_loss: 2.8201 - val_accuracy: 0.6870\n",
            "Epoch 23/60\n",
            "1302/1302 [==============================] - 91s 70ms/step - loss: 1.2267 - accuracy: 0.8287 - val_loss: 2.8868 - val_accuracy: 0.6847\n",
            "Epoch 24/60\n",
            "1302/1302 [==============================] - 92s 71ms/step - loss: 1.2261 - accuracy: 0.8298 - val_loss: 2.8418 - val_accuracy: 0.6855\n",
            "Epoch 25/60\n",
            "1302/1302 [==============================] - 91s 70ms/step - loss: 1.2187 - accuracy: 0.8303 - val_loss: 2.8456 - val_accuracy: 0.6876\n",
            "Epoch 26/60\n",
            "1302/1302 [==============================] - 92s 71ms/step - loss: 1.2180 - accuracy: 0.8305 - val_loss: 2.9122 - val_accuracy: 0.6863\n",
            "Epoch 27/60\n",
            "1302/1302 [==============================] - 91s 70ms/step - loss: 1.2164 - accuracy: 0.8308 - val_loss: 2.8751 - val_accuracy: 0.6868\n",
            "Epoch 28/60\n",
            "1302/1302 [==============================] - 91s 70ms/step - loss: 1.2105 - accuracy: 0.8323 - val_loss: 2.9253 - val_accuracy: 0.6835\n",
            "Epoch 29/60\n",
            "1302/1302 [==============================] - 91s 70ms/step - loss: 1.2089 - accuracy: 0.8326 - val_loss: 2.9156 - val_accuracy: 0.6869\n",
            "Epoch 30/60\n",
            "1302/1302 [==============================] - 91s 70ms/step - loss: 1.2061 - accuracy: 0.8329 - val_loss: 2.9293 - val_accuracy: 0.6842\n",
            "Epoch 31/60\n",
            "1302/1302 [==============================] - 91s 70ms/step - loss: 1.1990 - accuracy: 0.8340 - val_loss: 2.9256 - val_accuracy: 0.6869\n",
            "Epoch 32/60\n",
            "1302/1302 [==============================] - 91s 70ms/step - loss: 1.1967 - accuracy: 0.8346 - val_loss: 2.9688 - val_accuracy: 0.6873\n",
            "Epoch 33/60\n",
            "1302/1302 [==============================] - 92s 71ms/step - loss: 1.1959 - accuracy: 0.8349 - val_loss: 2.9364 - val_accuracy: 0.6847\n",
            "Epoch 34/60\n",
            "1302/1302 [==============================] - 91s 70ms/step - loss: 1.1891 - accuracy: 0.8356 - val_loss: 2.9145 - val_accuracy: 0.6880\n",
            "Epoch 35/60\n",
            "1302/1302 [==============================] - 91s 70ms/step - loss: 1.1801 - accuracy: 0.8375 - val_loss: 3.0010 - val_accuracy: 0.6846\n",
            "Epoch 36/60\n",
            "1302/1302 [==============================] - 91s 70ms/step - loss: 1.1778 - accuracy: 0.8379 - val_loss: 3.0159 - val_accuracy: 0.6839\n",
            "Epoch 37/60\n",
            "1302/1302 [==============================] - 91s 70ms/step - loss: 1.1757 - accuracy: 0.8383 - val_loss: 2.9558 - val_accuracy: 0.6869\n",
            "Epoch 38/60\n",
            "1302/1302 [==============================] - 91s 70ms/step - loss: 1.1672 - accuracy: 0.8394 - val_loss: 2.9953 - val_accuracy: 0.6854\n",
            "Epoch 39/60\n",
            "1302/1302 [==============================] - 91s 70ms/step - loss: 1.1619 - accuracy: 0.8407 - val_loss: 3.0356 - val_accuracy: 0.6852\n",
            "Epoch 40/60\n",
            "1302/1302 [==============================] - 91s 70ms/step - loss: 1.1587 - accuracy: 0.8413 - val_loss: 3.0244 - val_accuracy: 0.6866\n",
            "Epoch 41/60\n",
            "1302/1302 [==============================] - 91s 70ms/step - loss: 1.1515 - accuracy: 0.8425 - val_loss: 3.0674 - val_accuracy: 0.6894\n",
            "Epoch 42/60\n",
            "1302/1302 [==============================] - 90s 69ms/step - loss: 1.1556 - accuracy: 0.8416 - val_loss: 3.0801 - val_accuracy: 0.6898\n",
            "Epoch 43/60\n",
            "1302/1302 [==============================] - 91s 70ms/step - loss: 1.1486 - accuracy: 0.8429 - val_loss: 3.0999 - val_accuracy: 0.6850\n",
            "Epoch 44/60\n",
            "1302/1302 [==============================] - 91s 70ms/step - loss: 1.1474 - accuracy: 0.8431 - val_loss: 3.0863 - val_accuracy: 0.6892\n",
            "Epoch 45/60\n",
            "1302/1302 [==============================] - 91s 70ms/step - loss: 1.1436 - accuracy: 0.8439 - val_loss: 3.1008 - val_accuracy: 0.6885\n",
            "Epoch 46/60\n",
            "1302/1302 [==============================] - 91s 70ms/step - loss: 1.1409 - accuracy: 0.8442 - val_loss: 3.1128 - val_accuracy: 0.6898\n",
            "Epoch 47/60\n",
            "1302/1302 [==============================] - 91s 70ms/step - loss: 1.1360 - accuracy: 0.8453 - val_loss: 3.1091 - val_accuracy: 0.6863\n",
            "Epoch 48/60\n",
            "1302/1302 [==============================] - 90s 69ms/step - loss: 1.1364 - accuracy: 0.8451 - val_loss: 3.1204 - val_accuracy: 0.6867\n",
            "Epoch 49/60\n",
            "1302/1302 [==============================] - 90s 69ms/step - loss: 1.1345 - accuracy: 0.8457 - val_loss: 3.1471 - val_accuracy: 0.6874\n",
            "Epoch 50/60\n",
            "1302/1302 [==============================] - 90s 69ms/step - loss: 1.1264 - accuracy: 0.8467 - val_loss: 3.1429 - val_accuracy: 0.6869\n",
            "Epoch 51/60\n",
            "1302/1302 [==============================] - 90s 69ms/step - loss: 1.1253 - accuracy: 0.8469 - val_loss: 3.1299 - val_accuracy: 0.6846\n",
            "Epoch 52/60\n",
            "1302/1302 [==============================] - 90s 69ms/step - loss: 1.1222 - accuracy: 0.8475 - val_loss: 3.1925 - val_accuracy: 0.6873\n",
            "Epoch 53/60\n",
            "1302/1302 [==============================] - 90s 69ms/step - loss: 1.1226 - accuracy: 0.8476 - val_loss: 3.1926 - val_accuracy: 0.6863\n",
            "Epoch 54/60\n",
            "1302/1302 [==============================] - 90s 69ms/step - loss: 1.1204 - accuracy: 0.8477 - val_loss: 3.2776 - val_accuracy: 0.6845\n",
            "Epoch 55/60\n",
            "1302/1302 [==============================] - 89s 69ms/step - loss: 1.1151 - accuracy: 0.8484 - val_loss: 3.2016 - val_accuracy: 0.6865\n",
            "Epoch 56/60\n",
            "1302/1302 [==============================] - 89s 69ms/step - loss: 1.1147 - accuracy: 0.8489 - val_loss: 3.2425 - val_accuracy: 0.6817\n",
            "Epoch 57/60\n",
            "1302/1302 [==============================] - 90s 69ms/step - loss: 1.1111 - accuracy: 0.8492 - val_loss: 3.2194 - val_accuracy: 0.6842\n",
            "Epoch 58/60\n",
            "1302/1302 [==============================] - 90s 69ms/step - loss: 1.1116 - accuracy: 0.8493 - val_loss: 3.1738 - val_accuracy: 0.6886\n",
            "Epoch 59/60\n",
            "1302/1302 [==============================] - 89s 68ms/step - loss: 1.1073 - accuracy: 0.8499 - val_loss: 3.2949 - val_accuracy: 0.6844\n",
            "Epoch 60/60\n",
            "1302/1302 [==============================] - 90s 69ms/step - loss: 1.1062 - accuracy: 0.8505 - val_loss: 3.2685 - val_accuracy: 0.6851\n"
          ]
        },
        {
          "output_type": "execute_result",
          "data": {
            "text/plain": [
              "<keras.src.callbacks.History at 0x792a8e4e4790>"
            ]
          },
          "metadata": {},
          "execution_count": 17
        }
      ]
    },
    {
      "cell_type": "markdown",
      "source": [
        "- Una vez compilado, procedemos a probar los resultados. Primero un test artificial automatizado."
      ],
      "metadata": {
        "id": "NM56y1FcQOl2"
      }
    },
    {
      "cell_type": "code",
      "source": [
        "spa_vocab = spa_vectorization.get_vocabulary()\n",
        "spa_index_lookup = dict(zip(range(len(spa_vocab)), spa_vocab))\n",
        "max_decoded_sentence_length = 20\n",
        "\n",
        "\n",
        "def decode_sequence(input_sentence):\n",
        "    tokenized_input_sentence = eng_vectorization([input_sentence])\n",
        "    decoded_sentence = \"[start]\"\n",
        "    for i in range(max_decoded_sentence_length):\n",
        "        tokenized_target_sentence = spa_vectorization([decoded_sentence])[:, :-1]\n",
        "        predictions = transformer([tokenized_input_sentence, tokenized_target_sentence])\n",
        "\n",
        "        sampled_token_index = np.argmax(predictions[0, i, :])\n",
        "        sampled_token = spa_index_lookup[sampled_token_index]\n",
        "        decoded_sentence += \" \" + sampled_token\n",
        "\n",
        "        if sampled_token == \"[end]\":\n",
        "            break\n",
        "    return decoded_sentence\n",
        "\n",
        "\n",
        "test_eng_texts = [pair[0] for pair in test_pairs]\n",
        "for _ in range(30):\n",
        "    input_sentence = random.choice(test_eng_texts)\n",
        "    print(\"[|ENG|]\"+input_sentence+\"\\n\")\n",
        "    translated = decode_sequence(input_sentence)\n",
        "    print(\"[|SPA|]\"+translated+\"\\n\")"
      ],
      "metadata": {
        "id": "KX4vejQyQSFD",
        "colab": {
          "base_uri": "https://localhost:8080/"
        },
        "outputId": "0fe286b4-7449-4217-cf7d-168e8abf4620"
      },
      "execution_count": 18,
      "outputs": [
        {
          "output_type": "stream",
          "name": "stdout",
          "text": [
            "[|ENG|]Would you mind telling me what this is about?\n",
            "\n",
            "[|SPA|][start] le importa decir qué es esto [end]\n",
            "\n",
            "[|ENG|]Tom gave me your number.\n",
            "\n",
            "[|SPA|][start] tom me dio su número [end]\n",
            "\n",
            "[|ENG|]His new novel is worth reading.\n",
            "\n",
            "[|SPA|][start] su nueva novela está leyendo [end]\n",
            "\n",
            "[|ENG|]I suggest that we stay home and watch TV.\n",
            "\n",
            "[|SPA|][start] [UNK] que os comamos en casa y [end]\n",
            "\n",
            "[|ENG|]He has long hair.\n",
            "\n",
            "[|SPA|][start] tiene pelo largo [end]\n",
            "\n",
            "[|ENG|]That's a lot of money.\n",
            "\n",
            "[|SPA|][start] ese dinero es mucho dinero [end]\n",
            "\n",
            "[|ENG|]Come back tomorrow.\n",
            "\n",
            "[|SPA|][start] ven mañana [end]\n",
            "\n",
            "[|ENG|]I told you not to tell anyone.\n",
            "\n",
            "[|SPA|][start] le dije a nadie que [end]\n",
            "\n",
            "[|ENG|]We went to Australia last summer.\n",
            "\n",
            "[|SPA|][start] fuimos a australia el verano pasado [end]\n",
            "\n",
            "[|ENG|]Tom doesn't play rugby.\n",
            "\n",
            "[|SPA|][start] tom no toca ningún cobarde [end]\n",
            "\n",
            "[|ENG|]Let's try something a little simpler.\n",
            "\n",
            "[|SPA|][start] comamos algo de poco más simple [end]\n",
            "\n",
            "[|ENG|]I rang the bell.\n",
            "\n",
            "[|SPA|][start] llamé al timbre de la campana [end]\n",
            "\n",
            "[|ENG|]I want to go there again.\n",
            "\n",
            "[|SPA|][start] quiero volver allí [end]\n",
            "\n",
            "[|ENG|]Do you really have no home?\n",
            "\n",
            "[|SPA|][start] realmente no necesitas a casa [end]\n",
            "\n",
            "[|ENG|]I'll pick Tom up.\n",
            "\n",
            "[|SPA|][start] le voy a tom a dime [end]\n",
            "\n",
            "[|ENG|]She advised him not to drink too much.\n",
            "\n",
            "[|SPA|][start] ella le aconsejó que no tomo demasiado [end]\n",
            "\n",
            "[|ENG|]My mother's feeling better.\n",
            "\n",
            "[|SPA|][start] mi madre se siente mejor [end]\n",
            "\n",
            "[|ENG|]You should think about your future.\n",
            "\n",
            "[|SPA|][start] deberías pensar en tu futuro [end]\n",
            "\n",
            "[|ENG|]Tom still doesn't understand.\n",
            "\n",
            "[|SPA|][start] tom todavía no entiende [end]\n",
            "\n",
            "[|ENG|]Please take me to the hospital.\n",
            "\n",
            "[|SPA|][start] [UNK] a los 3 a mi hospital [end]\n",
            "\n",
            "[|ENG|]I was well rewarded for my efforts.\n",
            "\n",
            "[|SPA|][start] estuve bien con mi personal de que le resultó [end]\n",
            "\n",
            "[|ENG|]I've been to Boston several times.\n",
            "\n",
            "[|SPA|][start] he estado en boston varias veces [end]\n",
            "\n",
            "[|ENG|]I took it for granted that he would become a member.\n",
            "\n",
            "[|SPA|][start] di que ha pasado por hecho que él fuera una miembro [end]\n",
            "\n",
            "[|ENG|]It seems to me that you are wrong.\n",
            "\n",
            "[|SPA|][start] me parece que estás equivocado [end]\n",
            "\n",
            "[|ENG|]Are you saying that I'm a liar?\n",
            "\n",
            "[|SPA|][start] estás importante que soy un mentiroso [end]\n",
            "\n",
            "[|ENG|]I'm not against outlawing guns.\n",
            "\n",
            "[|SPA|][start] no me sentí que [UNK] su oscuridad [end]\n",
            "\n",
            "[|ENG|]My car won't start.\n",
            "\n",
            "[|SPA|][start] mi coche no [UNK] [end]\n",
            "\n",
            "[|ENG|]He is reading a book.\n",
            "\n",
            "[|SPA|][start] está leyendo un libro [end]\n",
            "\n",
            "[|ENG|]It's not cold.\n",
            "\n",
            "[|SPA|][start] no está frío [end]\n",
            "\n",
            "[|ENG|]Don't tell me you're tired already.\n",
            "\n",
            "[|SPA|][start] no me digas que ya estás cansado [end]\n",
            "\n"
          ]
        }
      ]
    },
    {
      "cell_type": "markdown",
      "source": [
        "- Por ultimo una evaluacion manual."
      ],
      "metadata": {
        "id": "kqqxex0uQX_7"
      }
    },
    {
      "cell_type": "code",
      "source": [
        "new_sentence = \"I know it is true, it is all because of you, and if I make it through, it will be because of you\"\n",
        "new_translation = decode_sequence(new_sentence)\n",
        "print(new_translation)"
      ],
      "metadata": {
        "colab": {
          "base_uri": "https://localhost:8080/"
        },
        "id": "BD4Sh9vvyTe4",
        "outputId": "0c240006-f116-46b9-efb2-c1bdd72cadd4"
      },
      "execution_count": 19,
      "outputs": [
        {
          "output_type": "stream",
          "name": "stdout",
          "text": [
            "[start] sé que se lo estará verdad es porque nada de ello [end]\n"
          ]
        }
      ]
    },
    {
      "cell_type": "markdown",
      "source": [
        "No es el mejor traductor del mundo, pero funciona."
      ],
      "metadata": {
        "id": "SsqVr93WChNM"
      }
    }
  ]
}