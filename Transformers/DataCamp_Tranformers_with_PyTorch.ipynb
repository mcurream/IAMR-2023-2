{
  "nbformat": 4,
  "nbformat_minor": 0,
  "metadata": {
    "colab": {
      "provenance": []
    },
    "kernelspec": {
      "name": "python3",
      "display_name": "Python 3"
    },
    "language_info": {
      "name": "python"
    }
  },
  "cells": [
    {
      "cell_type": "markdown",
      "source": [
        "# **Building a Transformer with PyTorch**\n",
        "### Learn how to build a Transformer model using PyTorch, a powerful tool in modern machine learning.\n",
        "\n",
        "https://www.datacamp.com/tutorial/building-a-transformer-with-py-torch"
      ],
      "metadata": {
        "id": "8Sk8ZNj4ziX4"
      }
    },
    {
      "cell_type": "code",
      "execution_count": null,
      "metadata": {
        "colab": {
          "base_uri": "https://localhost:8080/"
        },
        "id": "57yn15j-ZKOr",
        "outputId": "8687743d-0b91-4025-915c-8668d0465d46"
      },
      "outputs": [
        {
          "output_type": "stream",
          "name": "stdout",
          "text": [
            "Requirement already satisfied: torch in /usr/local/lib/python3.10/dist-packages (2.0.1+cu118)\n",
            "Requirement already satisfied: torchvision in /usr/local/lib/python3.10/dist-packages (0.15.2+cu118)\n",
            "Requirement already satisfied: torchaudio in /usr/local/lib/python3.10/dist-packages (2.0.2+cu118)\n",
            "Requirement already satisfied: filelock in /usr/local/lib/python3.10/dist-packages (from torch) (3.12.2)\n",
            "Requirement already satisfied: typing-extensions in /usr/local/lib/python3.10/dist-packages (from torch) (4.5.0)\n",
            "Requirement already satisfied: sympy in /usr/local/lib/python3.10/dist-packages (from torch) (1.12)\n",
            "Requirement already satisfied: networkx in /usr/local/lib/python3.10/dist-packages (from torch) (3.1)\n",
            "Requirement already satisfied: jinja2 in /usr/local/lib/python3.10/dist-packages (from torch) (3.1.2)\n",
            "Requirement already satisfied: triton==2.0.0 in /usr/local/lib/python3.10/dist-packages (from torch) (2.0.0)\n",
            "Requirement already satisfied: cmake in /usr/local/lib/python3.10/dist-packages (from triton==2.0.0->torch) (3.27.4.1)\n",
            "Requirement already satisfied: lit in /usr/local/lib/python3.10/dist-packages (from triton==2.0.0->torch) (16.0.6)\n",
            "Requirement already satisfied: numpy in /usr/local/lib/python3.10/dist-packages (from torchvision) (1.23.5)\n",
            "Requirement already satisfied: requests in /usr/local/lib/python3.10/dist-packages (from torchvision) (2.31.0)\n",
            "Requirement already satisfied: pillow!=8.3.*,>=5.3.0 in /usr/local/lib/python3.10/dist-packages (from torchvision) (9.4.0)\n",
            "Requirement already satisfied: MarkupSafe>=2.0 in /usr/local/lib/python3.10/dist-packages (from jinja2->torch) (2.1.3)\n",
            "Requirement already satisfied: charset-normalizer<4,>=2 in /usr/local/lib/python3.10/dist-packages (from requests->torchvision) (3.2.0)\n",
            "Requirement already satisfied: idna<4,>=2.5 in /usr/local/lib/python3.10/dist-packages (from requests->torchvision) (3.4)\n",
            "Requirement already satisfied: urllib3<3,>=1.21.1 in /usr/local/lib/python3.10/dist-packages (from requests->torchvision) (2.0.4)\n",
            "Requirement already satisfied: certifi>=2017.4.17 in /usr/local/lib/python3.10/dist-packages (from requests->torchvision) (2023.7.22)\n",
            "Requirement already satisfied: mpmath>=0.19 in /usr/local/lib/python3.10/dist-packages (from sympy->torch) (1.3.0)\n"
          ]
        }
      ],
      "source": [
        "! pip3 install torch torchvision torchaudio"
      ]
    },
    {
      "cell_type": "code",
      "source": [
        "import torch\n",
        "import torch.nn as nn\n",
        "import torch.optim as optim\n",
        "import torch.utils.data as data\n",
        "import math\n",
        "import copy"
      ],
      "metadata": {
        "id": "XlCYySW5ZXn9"
      },
      "execution_count": null,
      "outputs": []
    },
    {
      "cell_type": "markdown",
      "source": [
        "## Los parametros de multiple atencion."
      ],
      "metadata": {
        "id": "t7OeN93nZrOG"
      }
    },
    {
      "cell_type": "code",
      "source": [
        "class MultiHeadAttention(nn.Module):\n",
        "    def __init__(self, d_model, num_heads):\n",
        "        super(MultiHeadAttention, self).__init__()\n",
        "        # Ensure that the model dimension (d_model) is divisible by the number of heads\n",
        "        assert d_model % num_heads == 0, \"d_model must be divisible by num_heads\"\n",
        "\n",
        "        # Initialize dimensions\n",
        "        self.d_model = d_model # Model's dimension\n",
        "        self.num_heads = num_heads # Number of attention heads\n",
        "        self.d_k = d_model // num_heads # Dimension of each head's key, query, and value\n",
        "\n",
        "        # Linear layers for transforming inputs\n",
        "        self.W_q = nn.Linear(d_model, d_model) # Query transformation\n",
        "        self.W_k = nn.Linear(d_model, d_model) # Key transformation\n",
        "        self.W_v = nn.Linear(d_model, d_model) # Value transformation\n",
        "        self.W_o = nn.Linear(d_model, d_model) # Output transformation\n",
        "\n",
        "    def scaled_dot_product_attention(self, Q, K, V, mask=None):\n",
        "        # Calculate attention scores\n",
        "        attn_scores = torch.matmul(Q, K.transpose(-2, -1)) / math.sqrt(self.d_k)\n",
        "\n",
        "        # Apply mask if provided (useful for preventing attention to certain parts like padding)\n",
        "        if mask is not None:\n",
        "            attn_scores = attn_scores.masked_fill(mask == 0, -1e9)\n",
        "\n",
        "        # Softmax is applied to obtain attention probabilities\n",
        "        attn_probs = torch.softmax(attn_scores, dim=-1)\n",
        "\n",
        "        # Multiply by values to obtain the final output\n",
        "        output = torch.matmul(attn_probs, V)\n",
        "        return output\n",
        "\n",
        "    def split_heads(self, x):\n",
        "        # Reshape the input to have num_heads for multi-head attention\n",
        "        batch_size, seq_length, d_model = x.size()\n",
        "        return x.view(batch_size, seq_length, self.num_heads, self.d_k).transpose(1, 2)\n",
        "\n",
        "    def combine_heads(self, x):\n",
        "        # Combine the multiple heads back to original shape\n",
        "        batch_size, _, seq_length, d_k = x.size()\n",
        "        return x.transpose(1, 2).contiguous().view(batch_size, seq_length, self.d_model)\n",
        "\n",
        "    def forward(self, Q, K, V, mask=None):\n",
        "        # Apply linear transformations and split heads\n",
        "        Q = self.split_heads(self.W_q(Q))\n",
        "        K = self.split_heads(self.W_k(K))\n",
        "        V = self.split_heads(self.W_v(V))\n",
        "\n",
        "        # Perform scaled dot-product attention\n",
        "        attn_output = self.scaled_dot_product_attention(Q, K, V, mask)\n",
        "\n",
        "        # Combine heads and apply output transformation\n",
        "        output = self.W_o(self.combine_heads(attn_output))\n",
        "        return output"
      ],
      "metadata": {
        "id": "8-v1HihhZwQm"
      },
      "execution_count": null,
      "outputs": []
    },
    {
      "cell_type": "markdown",
      "source": [
        "## Algoritmo FeedForward"
      ],
      "metadata": {
        "id": "OcAXEq0pag6u"
      }
    },
    {
      "cell_type": "code",
      "source": [
        "class PositionWiseFeedForward(nn.Module):\n",
        "    def __init__(self, d_model, d_ff):\n",
        "        super(PositionWiseFeedForward, self).__init__()\n",
        "        self.fc1 = nn.Linear(d_model, d_ff)\n",
        "        self.fc2 = nn.Linear(d_ff, d_model)\n",
        "        self.relu = nn.ReLU()\n",
        "\n",
        "    def forward(self, x):\n",
        "        return self.fc2(self.relu(self.fc1(x)))"
      ],
      "metadata": {
        "id": "k5qpC3jHakWu"
      },
      "execution_count": null,
      "outputs": []
    },
    {
      "cell_type": "markdown",
      "source": [
        "## Posicionamiento en el codificador"
      ],
      "metadata": {
        "id": "lCsrq7M8a5Ye"
      }
    },
    {
      "cell_type": "code",
      "source": [
        "class PositionalEncoding(nn.Module):\n",
        "    def __init__(self, d_model, max_seq_length):\n",
        "        super(PositionalEncoding, self).__init__()\n",
        "\n",
        "        pe = torch.zeros(max_seq_length, d_model)\n",
        "        position = torch.arange(0, max_seq_length, dtype=torch.float).unsqueeze(1)\n",
        "        div_term = torch.exp(torch.arange(0, d_model, 2).float() * -(math.log(10000.0) / d_model))\n",
        "\n",
        "        pe[:, 0::2] = torch.sin(position * div_term)\n",
        "        pe[:, 1::2] = torch.cos(position * div_term)\n",
        "\n",
        "        self.register_buffer('pe', pe.unsqueeze(0))\n",
        "\n",
        "    def forward(self, x):\n",
        "        return x + self.pe[:, :x.size(1)]"
      ],
      "metadata": {
        "id": "jPAVzNG1a5Be"
      },
      "execution_count": null,
      "outputs": []
    },
    {
      "cell_type": "markdown",
      "source": [
        "## Codificador"
      ],
      "metadata": {
        "id": "KixMKfSJbc4V"
      }
    },
    {
      "cell_type": "code",
      "source": [
        "class EncoderLayer(nn.Module):\n",
        "    def __init__(self, d_model, num_heads, d_ff, dropout):\n",
        "        super(EncoderLayer, self).__init__()\n",
        "        self.self_attn = MultiHeadAttention(d_model, num_heads)\n",
        "        self.feed_forward = PositionWiseFeedForward(d_model, d_ff)\n",
        "        self.norm1 = nn.LayerNorm(d_model)\n",
        "        self.norm2 = nn.LayerNorm(d_model)\n",
        "        self.dropout = nn.Dropout(dropout)\n",
        "\n",
        "    def forward(self, x, mask):\n",
        "        attn_output = self.self_attn(x, x, x, mask)\n",
        "        x = self.norm1(x + self.dropout(attn_output))\n",
        "        ff_output = self.feed_forward(x)\n",
        "        x = self.norm2(x + self.dropout(ff_output))\n",
        "        return x"
      ],
      "metadata": {
        "id": "_mS2rXLIbf5O"
      },
      "execution_count": null,
      "outputs": []
    },
    {
      "cell_type": "markdown",
      "source": [
        "## Decodificador"
      ],
      "metadata": {
        "id": "lfq-8nuhb38-"
      }
    },
    {
      "cell_type": "code",
      "source": [
        "class DecoderLayer(nn.Module):\n",
        "    def __init__(self, d_model, num_heads, d_ff, dropout):\n",
        "        super(DecoderLayer, self).__init__()\n",
        "        self.self_attn = MultiHeadAttention(d_model, num_heads)\n",
        "        self.cross_attn = MultiHeadAttention(d_model, num_heads)\n",
        "        self.feed_forward = PositionWiseFeedForward(d_model, d_ff)\n",
        "        self.norm1 = nn.LayerNorm(d_model)\n",
        "        self.norm2 = nn.LayerNorm(d_model)\n",
        "        self.norm3 = nn.LayerNorm(d_model)\n",
        "        self.dropout = nn.Dropout(dropout)\n",
        "\n",
        "    def forward(self, x, enc_output, src_mask, tgt_mask):\n",
        "        attn_output = self.self_attn(x, x, x, tgt_mask)\n",
        "        x = self.norm1(x + self.dropout(attn_output))\n",
        "        attn_output = self.cross_attn(x, enc_output, enc_output, src_mask)\n",
        "        x = self.norm2(x + self.dropout(attn_output))\n",
        "        ff_output = self.feed_forward(x)\n",
        "        x = self.norm3(x + self.dropout(ff_output))\n",
        "        return x"
      ],
      "metadata": {
        "id": "bsG0G2w6b6CW"
      },
      "execution_count": null,
      "outputs": []
    },
    {
      "cell_type": "markdown",
      "source": [
        "## Transformador"
      ],
      "metadata": {
        "id": "4x3ufJ2xcFCV"
      }
    },
    {
      "cell_type": "code",
      "source": [
        "class Transformer(nn.Module):\n",
        "    def __init__(self, src_vocab_size, tgt_vocab_size, d_model, num_heads, num_layers, d_ff, max_seq_length, dropout):\n",
        "        super(Transformer, self).__init__()\n",
        "        self.encoder_embedding = nn.Embedding(src_vocab_size, d_model)\n",
        "        self.decoder_embedding = nn.Embedding(tgt_vocab_size, d_model)\n",
        "        self.positional_encoding = PositionalEncoding(d_model, max_seq_length)\n",
        "\n",
        "        self.encoder_layers = nn.ModuleList([EncoderLayer(d_model, num_heads, d_ff, dropout) for _ in range(num_layers)])\n",
        "        self.decoder_layers = nn.ModuleList([DecoderLayer(d_model, num_heads, d_ff, dropout) for _ in range(num_layers)])\n",
        "\n",
        "        self.fc = nn.Linear(d_model, tgt_vocab_size)\n",
        "        self.dropout = nn.Dropout(dropout)\n",
        "\n",
        "    def generate_mask(self, src, tgt):\n",
        "        src_mask = (src != 0).unsqueeze(1).unsqueeze(2)\n",
        "        tgt_mask = (tgt != 0).unsqueeze(1).unsqueeze(3)\n",
        "        seq_length = tgt.size(1)\n",
        "        nopeak_mask = (1 - torch.triu(torch.ones(1, seq_length, seq_length), diagonal=1)).bool()\n",
        "        tgt_mask = tgt_mask & nopeak_mask\n",
        "        return src_mask, tgt_mask\n",
        "\n",
        "    def forward(self, src, tgt):\n",
        "        src_mask, tgt_mask = self.generate_mask(src, tgt)\n",
        "        src_embedded = self.dropout(self.positional_encoding(self.encoder_embedding(src)))\n",
        "        tgt_embedded = self.dropout(self.positional_encoding(self.decoder_embedding(tgt)))\n",
        "\n",
        "        enc_output = src_embedded\n",
        "        for enc_layer in self.encoder_layers:\n",
        "            enc_output = enc_layer(enc_output, src_mask)\n",
        "\n",
        "        dec_output = tgt_embedded\n",
        "        for dec_layer in self.decoder_layers:\n",
        "            dec_output = dec_layer(dec_output, enc_output, src_mask, tgt_mask)\n",
        "\n",
        "        output = self.fc(dec_output)\n",
        "        return output"
      ],
      "metadata": {
        "id": "8l9XTcbdcHbl"
      },
      "execution_count": null,
      "outputs": []
    },
    {
      "cell_type": "markdown",
      "source": [
        "### *Entrenamiento con informacion generada*"
      ],
      "metadata": {
        "id": "4yC5u7YGcYul"
      }
    },
    {
      "cell_type": "code",
      "source": [
        "src_vocab_size = 5000\n",
        "tgt_vocab_size = 5000\n",
        "d_model = 512\n",
        "num_heads = 8\n",
        "num_layers = 6\n",
        "d_ff = 2048\n",
        "max_seq_length = 100\n",
        "dropout = 0.1\n",
        "\n",
        "transformer = Transformer(src_vocab_size, tgt_vocab_size, d_model, num_heads, num_layers, d_ff, max_seq_length, dropout)\n",
        "\n",
        "# Generate random sample data\n",
        "src_data = torch.randint(1, src_vocab_size, (64, max_seq_length))  # (batch_size, seq_length)\n",
        "tgt_data = torch.randint(1, tgt_vocab_size, (64, max_seq_length))  # (batch_size, seq_length)"
      ],
      "metadata": {
        "id": "C3H6zfDFcedF"
      },
      "execution_count": null,
      "outputs": []
    },
    {
      "cell_type": "code",
      "source": [
        "criterion = nn.CrossEntropyLoss(ignore_index=0)\n",
        "optimizer = optim.Adam(transformer.parameters(), lr=0.0001, betas=(0.9, 0.98), eps=1e-9)\n",
        "\n",
        "transformer.train()\n",
        "\n",
        "for epoch in range(100):\n",
        "    optimizer.zero_grad()\n",
        "    output = transformer(src_data, tgt_data[:, :-1])\n",
        "    loss = criterion(output.contiguous().view(-1, tgt_vocab_size), tgt_data[:, 1:].contiguous().view(-1))\n",
        "    loss.backward()\n",
        "    optimizer.step()\n",
        "    print(f\"Epoch: {epoch+1}, Loss: {loss.item()}\")"
      ],
      "metadata": {
        "colab": {
          "base_uri": "https://localhost:8080/"
        },
        "id": "brl4cMUWcp5W",
        "outputId": "ca1bbd5c-dab0-435a-f33b-9834679fa957"
      },
      "execution_count": null,
      "outputs": [
        {
          "output_type": "stream",
          "name": "stdout",
          "text": [
            "Epoch: 1, Loss: 8.683511734008789\n",
            "Epoch: 2, Loss: 8.554731369018555\n",
            "Epoch: 3, Loss: 8.481929779052734\n",
            "Epoch: 4, Loss: 8.431319236755371\n",
            "Epoch: 5, Loss: 8.374481201171875\n",
            "Epoch: 6, Loss: 8.303805351257324\n",
            "Epoch: 7, Loss: 8.227448463439941\n",
            "Epoch: 8, Loss: 8.145181655883789\n",
            "Epoch: 9, Loss: 8.063067436218262\n",
            "Epoch: 10, Loss: 7.978268623352051\n",
            "Epoch: 11, Loss: 7.9004364013671875\n",
            "Epoch: 12, Loss: 7.823511600494385\n",
            "Epoch: 13, Loss: 7.7425537109375\n",
            "Epoch: 14, Loss: 7.658986568450928\n",
            "Epoch: 15, Loss: 7.566291809082031\n",
            "Epoch: 16, Loss: 7.490559101104736\n",
            "Epoch: 17, Loss: 7.40501070022583\n",
            "Epoch: 18, Loss: 7.322419166564941\n",
            "Epoch: 19, Loss: 7.238339900970459\n",
            "Epoch: 20, Loss: 7.157698631286621\n",
            "Epoch: 21, Loss: 7.078845500946045\n",
            "Epoch: 22, Loss: 7.001426696777344\n",
            "Epoch: 23, Loss: 6.9251604080200195\n",
            "Epoch: 24, Loss: 6.841929912567139\n",
            "Epoch: 25, Loss: 6.7708845138549805\n",
            "Epoch: 26, Loss: 6.695876121520996\n",
            "Epoch: 27, Loss: 6.620961666107178\n",
            "Epoch: 28, Loss: 6.546069622039795\n",
            "Epoch: 29, Loss: 6.467158794403076\n",
            "Epoch: 30, Loss: 6.404980659484863\n",
            "Epoch: 31, Loss: 6.330873966217041\n",
            "Epoch: 32, Loss: 6.2681050300598145\n",
            "Epoch: 33, Loss: 6.203586101531982\n",
            "Epoch: 34, Loss: 6.1319499015808105\n",
            "Epoch: 35, Loss: 6.067249774932861\n",
            "Epoch: 36, Loss: 6.003746032714844\n",
            "Epoch: 37, Loss: 5.939177989959717\n",
            "Epoch: 38, Loss: 5.868570804595947\n",
            "Epoch: 39, Loss: 5.807339668273926\n",
            "Epoch: 40, Loss: 5.747100353240967\n",
            "Epoch: 41, Loss: 5.676724910736084\n",
            "Epoch: 42, Loss: 5.622398853302002\n",
            "Epoch: 43, Loss: 5.5529961585998535\n",
            "Epoch: 44, Loss: 5.4992146492004395\n",
            "Epoch: 45, Loss: 5.439267635345459\n",
            "Epoch: 46, Loss: 5.37693977355957\n",
            "Epoch: 47, Loss: 5.320224761962891\n",
            "Epoch: 48, Loss: 5.2568817138671875\n",
            "Epoch: 49, Loss: 5.202392101287842\n",
            "Epoch: 50, Loss: 5.14108419418335\n",
            "Epoch: 51, Loss: 5.0969367027282715\n",
            "Epoch: 52, Loss: 5.036211967468262\n",
            "Epoch: 53, Loss: 4.987418174743652\n",
            "Epoch: 54, Loss: 4.924367427825928\n",
            "Epoch: 55, Loss: 4.864104747772217\n",
            "Epoch: 56, Loss: 4.818826198577881\n",
            "Epoch: 57, Loss: 4.7637786865234375\n",
            "Epoch: 58, Loss: 4.707381725311279\n",
            "Epoch: 59, Loss: 4.650637626647949\n",
            "Epoch: 60, Loss: 4.604640007019043\n",
            "Epoch: 61, Loss: 4.54654598236084\n",
            "Epoch: 62, Loss: 4.495943069458008\n",
            "Epoch: 63, Loss: 4.451402187347412\n",
            "Epoch: 64, Loss: 4.391252040863037\n",
            "Epoch: 65, Loss: 4.344745635986328\n",
            "Epoch: 66, Loss: 4.294586181640625\n",
            "Epoch: 67, Loss: 4.245373249053955\n",
            "Epoch: 68, Loss: 4.198143482208252\n",
            "Epoch: 69, Loss: 4.1442084312438965\n",
            "Epoch: 70, Loss: 4.102128982543945\n",
            "Epoch: 71, Loss: 4.044201850891113\n",
            "Epoch: 72, Loss: 3.998748540878296\n",
            "Epoch: 73, Loss: 3.9487240314483643\n",
            "Epoch: 74, Loss: 3.9067444801330566\n",
            "Epoch: 75, Loss: 3.8626620769500732\n",
            "Epoch: 76, Loss: 3.811206817626953\n",
            "Epoch: 77, Loss: 3.767131805419922\n",
            "Epoch: 78, Loss: 3.7113335132598877\n",
            "Epoch: 79, Loss: 3.675584554672241\n",
            "Epoch: 80, Loss: 3.621755361557007\n",
            "Epoch: 81, Loss: 3.5739176273345947\n",
            "Epoch: 82, Loss: 3.5300564765930176\n",
            "Epoch: 83, Loss: 3.4846789836883545\n",
            "Epoch: 84, Loss: 3.431119680404663\n",
            "Epoch: 85, Loss: 3.3919930458068848\n",
            "Epoch: 86, Loss: 3.3430867195129395\n",
            "Epoch: 87, Loss: 3.300523042678833\n",
            "Epoch: 88, Loss: 3.2515807151794434\n",
            "Epoch: 89, Loss: 3.216628313064575\n",
            "Epoch: 90, Loss: 3.1615214347839355\n",
            "Epoch: 91, Loss: 3.1162328720092773\n",
            "Epoch: 92, Loss: 3.0789191722869873\n",
            "Epoch: 93, Loss: 3.0364203453063965\n",
            "Epoch: 94, Loss: 2.9826109409332275\n",
            "Epoch: 95, Loss: 2.9448494911193848\n",
            "Epoch: 96, Loss: 2.9017856121063232\n",
            "Epoch: 97, Loss: 2.8617193698883057\n",
            "Epoch: 98, Loss: 2.8254587650299072\n",
            "Epoch: 99, Loss: 2.78102445602417\n",
            "Epoch: 100, Loss: 2.7363293170928955\n"
          ]
        }
      ]
    },
    {
      "cell_type": "markdown",
      "source": [
        "### *Evaluacion de la informacion*"
      ],
      "metadata": {
        "id": "d-iQTY1eUa6k"
      }
    },
    {
      "cell_type": "code",
      "source": [
        "transformer.eval()\n",
        "\n",
        "# Generate random sample validation data\n",
        "val_src_data = torch.randint(1, src_vocab_size, (64, max_seq_length))  # (batch_size, seq_length)\n",
        "val_tgt_data = torch.randint(1, tgt_vocab_size, (64, max_seq_length))  # (batch_size, seq_length)\n",
        "\n",
        "with torch.no_grad():\n",
        "\n",
        "    val_output = transformer(val_src_data, val_tgt_data[:, :-1])\n",
        "    val_loss = criterion(val_output.contiguous().view(-1, tgt_vocab_size), val_tgt_data[:, 1:].contiguous().view(-1))\n",
        "    print(f\"Validation Loss: {val_loss.item()}\")"
      ],
      "metadata": {
        "colab": {
          "base_uri": "https://localhost:8080/"
        },
        "id": "4-QKu4PAIGs6",
        "outputId": "b8f33721-16a1-4d8c-eb6a-df7359b5d555"
      },
      "execution_count": null,
      "outputs": [
        {
          "output_type": "stream",
          "name": "stdout",
          "text": [
            "Validation Loss: 8.827436447143555\n"
          ]
        }
      ]
    }
  ]
}